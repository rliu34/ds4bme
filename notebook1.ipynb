{
  "nbformat": 4,
  "nbformat_minor": 0,
  "metadata": {
    "colab": {
      "name": "notebook1.ipynb",
      "version": "0.3.2",
      "provenance": [],
      "collapsed_sections": [],
      "include_colab_link": true
    },
    "kernelspec": {
      "name": "python3",
      "display_name": "Python 3"
    }
  },
  "cells": [
    {
      "cell_type": "markdown",
      "metadata": {
        "id": "view-in-github",
        "colab_type": "text"
      },
      "source": [
        "<a href=\"https://colab.research.google.com/github/rliu34/ds4bme/blob/master/notebook1.ipynb\" target=\"_parent\"><img src=\"https://colab.research.google.com/assets/colab-badge.svg\" alt=\"Open In Colab\"/></a>"
      ]
    },
    {
      "cell_type": "markdown",
      "metadata": {
        "id": "G1yCZo89bYXg",
        "colab_type": "text"
      },
      "source": [
        "# Introduction\n",
        "\n",
        "This is a colab notebook. It is a special case of a ipython notebook in a specific interface. This is how you will do your analysis for this class. It requires a google account and is an example of an ipython notebook interface. \n",
        "\n",
        "This is an example of a text block. To add text blocks, simply click the \"+ Text\" button on the bar above the notebook. \n",
        "\n",
        "The code is marked up in a markup language called \"Markdown\". You can find a guide to markdown syntax here: [https://www.markdownguide.org/cheat-sheet/](https://www.markdownguide.org/cheat-sheet/).\n",
        "\n",
        "Also, the [colab documentation](https://colab.research.google.com/notebooks/markdown_guide.ipynb) is useful.\n",
        "\n",
        "Markdown should take you only a few moments to learn. It is as easy as a markup langauge can be made.\n",
        "\n"
      ]
    },
    {
      "cell_type": "markdown",
      "metadata": {
        "id": "97GsGa5ihkOw",
        "colab_type": "text"
      },
      "source": [
        "# Imports and files\n",
        "The first thing we'll try is loading some data and plotting it. To do this, we'll need some packages. Let's load up pandas, a package for data management, and matplotlib. The python command for this is `import`.\n"
      ]
    },
    {
      "cell_type": "code",
      "metadata": {
        "colab_type": "code",
        "id": "ophPuMwbnOf1",
        "colab": {}
      },
      "source": [
        "import pandas as pd\n",
        "import numpy as np"
      ],
      "execution_count": 0,
      "outputs": []
    },
    {
      "cell_type": "markdown",
      "metadata": {
        "id": "gb8k28AbbXs4",
        "colab_type": "text"
      },
      "source": [
        "If you want to mount your google drive, do this. \n",
        "\n",
        "```\n",
        "from google.colab import drive\n",
        "drive.mount('/content/drive/')\n",
        "```\n",
        "\n",
        "Or, there's a little button on the left menu. (If you don't see it, click on the little arrow on the left hand side of the screen.)\n",
        "\n",
        "We won't do this here, since we'll download our data from github."
      ]
    },
    {
      "cell_type": "markdown",
      "metadata": {
        "id": "TUpuJrYmlx74",
        "colab_type": "text"
      },
      "source": [
        "To execute unix commands, do `!command`. For example, here I'm listing out the contents of the connected runtime for this notebook. For example, here I'm running the `ls` command for listing out the contents of a unix directory."
      ]
    },
    {
      "cell_type": "code",
      "metadata": {
        "id": "hTz0Zhs9lWWT",
        "colab_type": "code",
        "outputId": "4fd0f9e6-ce03-48d0-f217-e0540d36c886",
        "colab": {
          "base_uri": "https://localhost:8080/",
          "height": 35
        }
      },
      "source": [
        "!ls"
      ],
      "execution_count": 0,
      "outputs": [
        {
          "output_type": "stream",
          "text": [
            "sample_data\n"
          ],
          "name": "stdout"
        }
      ]
    },
    {
      "cell_type": "markdown",
      "metadata": {
        "id": "BrcOluJ1mwIv",
        "colab_type": "text"
      },
      "source": [
        "Let's download the data. Or you could upload the data to google drive or directly upload to colab. "
      ]
    },
    {
      "cell_type": "code",
      "metadata": {
        "colab_type": "code",
        "id": "nsvQPOjvrKVK",
        "cellView": "both",
        "outputId": "b3cce9dc-9230-43dc-ff1c-113c8be03d16",
        "colab": {
          "base_uri": "https://localhost:8080/",
          "height": 237
        }
      },
      "source": [
        "! if [ ! -e kirby127a_3_1_ax_283Labels_M2_corrected_stats.csv ] ; \\\n",
        "  then wget https://raw.githubusercontent.com/bcaffo/ds4bme_intro/master/data/kirby127a_3_1_ax_283Labels_M2_corrected_stats.csv; \\\n",
        "fi"
      ],
      "execution_count": 0,
      "outputs": [
        {
          "output_type": "stream",
          "text": [
            "--2019-08-29 17:16:54--  https://raw.githubusercontent.com/bcaffo/ds4bme_intro/master/data/kirby127a_3_1_ax_283Labels_M2_corrected_stats.csv\n",
            "Resolving raw.githubusercontent.com (raw.githubusercontent.com)... 151.101.0.133, 151.101.64.133, 151.101.128.133, ...\n",
            "Connecting to raw.githubusercontent.com (raw.githubusercontent.com)|151.101.0.133|:443... connected.\n",
            "HTTP request sent, awaiting response... 200 OK\n",
            "Length: 61456 (60K) [text/plain]\n",
            "Saving to: ‘kirby127a_3_1_ax_283Labels_M2_corrected_stats.csv’\n",
            "\n",
            "\r          kirby127a   0%[                    ]       0  --.-KB/s               \rkirby127a_3_1_ax_28 100%[===================>]  60.02K  --.-KB/s    in 0.01s   \n",
            "\n",
            "2019-08-29 17:16:54 (4.14 MB/s) - ‘kirby127a_3_1_ax_283Labels_M2_corrected_stats.csv’ saved [61456/61456]\n",
            "\n"
          ],
          "name": "stdout"
        }
      ]
    },
    {
      "cell_type": "markdown",
      "metadata": {
        "id": "uNXo0GOhwgB2",
        "colab_type": "text"
      },
      "source": [
        "The initial `!` says it's a unix command. The `if` statement asks whether the file already exists via `-e`. The `!` inside the brackets takes the opposite. So \n",
        "\n",
        "```\n",
        "if [ ! -e kirby127a_3_1_ax_283Labels_M2_corrected_stats.csv ] ;\n",
        "```\n",
        "test whether that file *does not* exist in the current working directory. If it does not, then it executes the following command:\n",
        "```\n",
        "wget https://raw.githubusercontent.com/bcaffo/ds4bme_intro/master/data/kirby127a_3_1_ax_283Labels_M2_corrected_stats.csv;\n",
        "```\n",
        "which grabs the file from my github repository over `https`. Then the `fi` statement ends the conditional statement. The `\\` are required since colab notebook snippets don't work like a regular unix command line or shell script and the `\\` tells colab to keep going on like this is the same line. If you were writing this in a shell script file, that would be unnecessary. \n"
      ]
    },
    {
      "cell_type": "markdown",
      "metadata": {
        "id": "oafyXjCZnYvY",
        "colab_type": "text"
      },
      "source": [
        "# Reading data in with pandas"
      ]
    },
    {
      "cell_type": "markdown",
      "metadata": {
        "id": "x-FYGI0_5mQZ",
        "colab_type": "text"
      },
      "source": [
        "Let's now read in an MRICloud dataset using pandas. We want to use the function `read_csv` within pandas. Notice we imported pandas `as pd` so the command is `pd.read_csv`. "
      ]
    },
    {
      "cell_type": "code",
      "metadata": {
        "id": "vzhyTYxbm_m3",
        "colab_type": "code",
        "colab": {}
      },
      "source": [
        "df = pd.read_csv(\"/content/kirby127a_3_1_ax_283Labels_M2_corrected_stats.csv\")"
      ],
      "execution_count": 0,
      "outputs": []
    },
    {
      "cell_type": "markdown",
      "metadata": {
        "id": "TXqLH6LK6Umh",
        "colab_type": "text"
      },
      "source": [
        "Let's look at the first 4 rows of our dataframe. The object `dataset` is a `pandas` object with associated methods. One is `head` which allows one to see the first few rows of data. "
      ]
    },
    {
      "cell_type": "code",
      "metadata": {
        "id": "5ljATgC_50nX",
        "colab_type": "code",
        "outputId": "817198e6-58a4-43b6-d4b0-cc8858bd33d4",
        "colab": {
          "base_uri": "https://localhost:8080/",
          "height": 209
        }
      },
      "source": [
        "df.head(4)"
      ],
      "execution_count": 0,
      "outputs": [
        {
          "output_type": "execute_result",
          "data": {
            "text/html": [
              "<div>\n",
              "<style scoped>\n",
              "    .dataframe tbody tr th:only-of-type {\n",
              "        vertical-align: middle;\n",
              "    }\n",
              "\n",
              "    .dataframe tbody tr th {\n",
              "        vertical-align: top;\n",
              "    }\n",
              "\n",
              "    .dataframe thead th {\n",
              "        text-align: right;\n",
              "    }\n",
              "</style>\n",
              "<table border=\"1\" class=\"dataframe\">\n",
              "  <thead>\n",
              "    <tr style=\"text-align: right;\">\n",
              "      <th></th>\n",
              "      <th>Unnamed: 0</th>\n",
              "      <th>rawid</th>\n",
              "      <th>roi</th>\n",
              "      <th>volume</th>\n",
              "      <th>min</th>\n",
              "      <th>max</th>\n",
              "      <th>mean</th>\n",
              "      <th>std</th>\n",
              "      <th>type</th>\n",
              "      <th>level</th>\n",
              "    </tr>\n",
              "  </thead>\n",
              "  <tbody>\n",
              "    <tr>\n",
              "      <th>0</th>\n",
              "      <td>1</td>\n",
              "      <td>kirby127a_3_1_ax.img</td>\n",
              "      <td>Telencephalon_L</td>\n",
              "      <td>531111</td>\n",
              "      <td>0</td>\n",
              "      <td>374</td>\n",
              "      <td>128.3013</td>\n",
              "      <td>51.8593</td>\n",
              "      <td>1</td>\n",
              "      <td>1</td>\n",
              "    </tr>\n",
              "    <tr>\n",
              "      <th>1</th>\n",
              "      <td>2</td>\n",
              "      <td>kirby127a_3_1_ax.img</td>\n",
              "      <td>Telencephalon_R</td>\n",
              "      <td>543404</td>\n",
              "      <td>0</td>\n",
              "      <td>300</td>\n",
              "      <td>135.0683</td>\n",
              "      <td>53.6471</td>\n",
              "      <td>1</td>\n",
              "      <td>1</td>\n",
              "    </tr>\n",
              "    <tr>\n",
              "      <th>2</th>\n",
              "      <td>3</td>\n",
              "      <td>kirby127a_3_1_ax.img</td>\n",
              "      <td>Diencephalon_L</td>\n",
              "      <td>9683</td>\n",
              "      <td>15</td>\n",
              "      <td>295</td>\n",
              "      <td>193.5488</td>\n",
              "      <td>32.2733</td>\n",
              "      <td>1</td>\n",
              "      <td>1</td>\n",
              "    </tr>\n",
              "    <tr>\n",
              "      <th>3</th>\n",
              "      <td>4</td>\n",
              "      <td>kirby127a_3_1_ax.img</td>\n",
              "      <td>Diencephalon_R</td>\n",
              "      <td>9678</td>\n",
              "      <td>10</td>\n",
              "      <td>335</td>\n",
              "      <td>193.7051</td>\n",
              "      <td>32.7869</td>\n",
              "      <td>1</td>\n",
              "      <td>1</td>\n",
              "    </tr>\n",
              "  </tbody>\n",
              "</table>\n",
              "</div>"
            ],
            "text/plain": [
              "   Unnamed: 0                 rawid              roi  ...      std  type  level\n",
              "0           1  kirby127a_3_1_ax.img  Telencephalon_L  ...  51.8593     1      1\n",
              "1           2  kirby127a_3_1_ax.img  Telencephalon_R  ...  53.6471     1      1\n",
              "2           3  kirby127a_3_1_ax.img   Diencephalon_L  ...  32.2733     1      1\n",
              "3           4  kirby127a_3_1_ax.img   Diencephalon_R  ...  32.7869     1      1\n",
              "\n",
              "[4 rows x 10 columns]"
            ]
          },
          "metadata": {
            "tags": []
          },
          "execution_count": 5
        }
      ]
    },
    {
      "cell_type": "markdown",
      "metadata": {
        "id": "xM6krqI2ndye",
        "colab_type": "text"
      },
      "source": [
        "# Working with the data"
      ]
    },
    {
      "cell_type": "markdown",
      "metadata": {
        "id": "cHt4jCNWcAv2",
        "colab_type": "text"
      },
      "source": [
        "Let's get rid of the column `rawid` and the unnamed column since they're kind of useless for today's lecture. Also let's work with only the volume."
      ]
    },
    {
      "cell_type": "code",
      "metadata": {
        "id": "VV0BRynMcAHr",
        "colab_type": "code",
        "colab": {}
      },
      "source": [
        "df = df.drop(['Unnamed: 0', 'rawid', 'min', 'max', 'mean', 'std'],\\\n",
        "             axis = 1)"
      ],
      "execution_count": 0,
      "outputs": []
    },
    {
      "cell_type": "markdown",
      "metadata": {
        "id": "fRL2IS3RgpRW",
        "colab_type": "text"
      },
      "source": [
        "Now let's create a column called `icv` for intra-cranial volume. ICV is defined as the summ of the Type I Level 1 structures and cerebrospinal fluid. For the rest of this lecture, we're just going to look at this type and level."
      ]
    },
    {
      "cell_type": "code",
      "metadata": {
        "id": "vpFUqDK8hAeG",
        "colab_type": "code",
        "outputId": "9fcd7782-5c73-4fc8-eb61-dd94a090b5eb",
        "colab": {
          "base_uri": "https://localhost:8080/",
          "height": 296
        }
      },
      "source": [
        "## Extract the Type 1 Level 1 data\n",
        "t1l1 = df.loc[(df.type == 1) & (df.level == 1)]\n",
        "## Create a new column based on ICV\n",
        "t1l1 = t1l1.assign(icv = sum(t1l1.volume))\n",
        "t1l1"
      ],
      "execution_count": 0,
      "outputs": [
        {
          "output_type": "execute_result",
          "data": {
            "text/html": [
              "<div>\n",
              "<style scoped>\n",
              "    .dataframe tbody tr th:only-of-type {\n",
              "        vertical-align: middle;\n",
              "    }\n",
              "\n",
              "    .dataframe tbody tr th {\n",
              "        vertical-align: top;\n",
              "    }\n",
              "\n",
              "    .dataframe thead th {\n",
              "        text-align: right;\n",
              "    }\n",
              "</style>\n",
              "<table border=\"1\" class=\"dataframe\">\n",
              "  <thead>\n",
              "    <tr style=\"text-align: right;\">\n",
              "      <th></th>\n",
              "      <th>roi</th>\n",
              "      <th>volume</th>\n",
              "      <th>type</th>\n",
              "      <th>level</th>\n",
              "      <th>icv</th>\n",
              "    </tr>\n",
              "  </thead>\n",
              "  <tbody>\n",
              "    <tr>\n",
              "      <th>0</th>\n",
              "      <td>Telencephalon_L</td>\n",
              "      <td>531111</td>\n",
              "      <td>1</td>\n",
              "      <td>1</td>\n",
              "      <td>1378295</td>\n",
              "    </tr>\n",
              "    <tr>\n",
              "      <th>1</th>\n",
              "      <td>Telencephalon_R</td>\n",
              "      <td>543404</td>\n",
              "      <td>1</td>\n",
              "      <td>1</td>\n",
              "      <td>1378295</td>\n",
              "    </tr>\n",
              "    <tr>\n",
              "      <th>2</th>\n",
              "      <td>Diencephalon_L</td>\n",
              "      <td>9683</td>\n",
              "      <td>1</td>\n",
              "      <td>1</td>\n",
              "      <td>1378295</td>\n",
              "    </tr>\n",
              "    <tr>\n",
              "      <th>3</th>\n",
              "      <td>Diencephalon_R</td>\n",
              "      <td>9678</td>\n",
              "      <td>1</td>\n",
              "      <td>1</td>\n",
              "      <td>1378295</td>\n",
              "    </tr>\n",
              "    <tr>\n",
              "      <th>4</th>\n",
              "      <td>Mesencephalon</td>\n",
              "      <td>10268</td>\n",
              "      <td>1</td>\n",
              "      <td>1</td>\n",
              "      <td>1378295</td>\n",
              "    </tr>\n",
              "    <tr>\n",
              "      <th>5</th>\n",
              "      <td>Metencephalon</td>\n",
              "      <td>159402</td>\n",
              "      <td>1</td>\n",
              "      <td>1</td>\n",
              "      <td>1378295</td>\n",
              "    </tr>\n",
              "    <tr>\n",
              "      <th>6</th>\n",
              "      <td>Myelencephalon</td>\n",
              "      <td>4973</td>\n",
              "      <td>1</td>\n",
              "      <td>1</td>\n",
              "      <td>1378295</td>\n",
              "    </tr>\n",
              "    <tr>\n",
              "      <th>7</th>\n",
              "      <td>CSF</td>\n",
              "      <td>109776</td>\n",
              "      <td>1</td>\n",
              "      <td>1</td>\n",
              "      <td>1378295</td>\n",
              "    </tr>\n",
              "  </tbody>\n",
              "</table>\n",
              "</div>"
            ],
            "text/plain": [
              "               roi  volume  type  level      icv\n",
              "0  Telencephalon_L  531111     1      1  1378295\n",
              "1  Telencephalon_R  543404     1      1  1378295\n",
              "2   Diencephalon_L    9683     1      1  1378295\n",
              "3   Diencephalon_R    9678     1      1  1378295\n",
              "4    Mesencephalon   10268     1      1  1378295\n",
              "5    Metencephalon  159402     1      1  1378295\n",
              "6   Myelencephalon    4973     1      1  1378295\n",
              "7              CSF  109776     1      1  1378295"
            ]
          },
          "metadata": {
            "tags": []
          },
          "execution_count": 7
        }
      ]
    },
    {
      "cell_type": "markdown",
      "metadata": {
        "id": "AMSOSF0hqHfJ",
        "colab_type": "text"
      },
      "source": [
        "Now the TBV is defined as the sum of the volume for all rows except CSF. "
      ]
    },
    {
      "cell_type": "code",
      "metadata": {
        "id": "7tjWllGmqG1A",
        "colab_type": "code",
        "outputId": "d401326e-ccdf-4442-f48b-53d75fd6e9a0",
        "colab": {
          "base_uri": "https://localhost:8080/",
          "height": 296
        }
      },
      "source": [
        "t1l1 = t1l1.assign(tbv = sum(t1l1.volume[(t1l1.roi != 'CSF')]))\n",
        "t1l1"
      ],
      "execution_count": 0,
      "outputs": [
        {
          "output_type": "execute_result",
          "data": {
            "text/html": [
              "<div>\n",
              "<style scoped>\n",
              "    .dataframe tbody tr th:only-of-type {\n",
              "        vertical-align: middle;\n",
              "    }\n",
              "\n",
              "    .dataframe tbody tr th {\n",
              "        vertical-align: top;\n",
              "    }\n",
              "\n",
              "    .dataframe thead th {\n",
              "        text-align: right;\n",
              "    }\n",
              "</style>\n",
              "<table border=\"1\" class=\"dataframe\">\n",
              "  <thead>\n",
              "    <tr style=\"text-align: right;\">\n",
              "      <th></th>\n",
              "      <th>roi</th>\n",
              "      <th>volume</th>\n",
              "      <th>type</th>\n",
              "      <th>level</th>\n",
              "      <th>icv</th>\n",
              "      <th>tbv</th>\n",
              "    </tr>\n",
              "  </thead>\n",
              "  <tbody>\n",
              "    <tr>\n",
              "      <th>0</th>\n",
              "      <td>Telencephalon_L</td>\n",
              "      <td>531111</td>\n",
              "      <td>1</td>\n",
              "      <td>1</td>\n",
              "      <td>1378295</td>\n",
              "      <td>1268519</td>\n",
              "    </tr>\n",
              "    <tr>\n",
              "      <th>1</th>\n",
              "      <td>Telencephalon_R</td>\n",
              "      <td>543404</td>\n",
              "      <td>1</td>\n",
              "      <td>1</td>\n",
              "      <td>1378295</td>\n",
              "      <td>1268519</td>\n",
              "    </tr>\n",
              "    <tr>\n",
              "      <th>2</th>\n",
              "      <td>Diencephalon_L</td>\n",
              "      <td>9683</td>\n",
              "      <td>1</td>\n",
              "      <td>1</td>\n",
              "      <td>1378295</td>\n",
              "      <td>1268519</td>\n",
              "    </tr>\n",
              "    <tr>\n",
              "      <th>3</th>\n",
              "      <td>Diencephalon_R</td>\n",
              "      <td>9678</td>\n",
              "      <td>1</td>\n",
              "      <td>1</td>\n",
              "      <td>1378295</td>\n",
              "      <td>1268519</td>\n",
              "    </tr>\n",
              "    <tr>\n",
              "      <th>4</th>\n",
              "      <td>Mesencephalon</td>\n",
              "      <td>10268</td>\n",
              "      <td>1</td>\n",
              "      <td>1</td>\n",
              "      <td>1378295</td>\n",
              "      <td>1268519</td>\n",
              "    </tr>\n",
              "    <tr>\n",
              "      <th>5</th>\n",
              "      <td>Metencephalon</td>\n",
              "      <td>159402</td>\n",
              "      <td>1</td>\n",
              "      <td>1</td>\n",
              "      <td>1378295</td>\n",
              "      <td>1268519</td>\n",
              "    </tr>\n",
              "    <tr>\n",
              "      <th>6</th>\n",
              "      <td>Myelencephalon</td>\n",
              "      <td>4973</td>\n",
              "      <td>1</td>\n",
              "      <td>1</td>\n",
              "      <td>1378295</td>\n",
              "      <td>1268519</td>\n",
              "    </tr>\n",
              "    <tr>\n",
              "      <th>7</th>\n",
              "      <td>CSF</td>\n",
              "      <td>109776</td>\n",
              "      <td>1</td>\n",
              "      <td>1</td>\n",
              "      <td>1378295</td>\n",
              "      <td>1268519</td>\n",
              "    </tr>\n",
              "  </tbody>\n",
              "</table>\n",
              "</div>"
            ],
            "text/plain": [
              "               roi  volume  type  level      icv      tbv\n",
              "0  Telencephalon_L  531111     1      1  1378295  1268519\n",
              "1  Telencephalon_R  543404     1      1  1378295  1268519\n",
              "2   Diencephalon_L    9683     1      1  1378295  1268519\n",
              "3   Diencephalon_R    9678     1      1  1378295  1268519\n",
              "4    Mesencephalon   10268     1      1  1378295  1268519\n",
              "5    Metencephalon  159402     1      1  1378295  1268519\n",
              "6   Myelencephalon    4973     1      1  1378295  1268519\n",
              "7              CSF  109776     1      1  1378295  1268519"
            ]
          },
          "metadata": {
            "tags": []
          },
          "execution_count": 8
        }
      ]
    },
    {
      "cell_type": "markdown",
      "metadata": {
        "id": "CubwKkiEo_Av",
        "colab_type": "text"
      },
      "source": [
        "Let's look at brain composition."
      ]
    },
    {
      "cell_type": "code",
      "metadata": {
        "id": "8O_8voB_o-SP",
        "colab_type": "code",
        "outputId": "85991187-e562-432c-a20a-4921a6d947f9",
        "colab": {
          "base_uri": "https://localhost:8080/",
          "height": 296
        }
      },
      "source": [
        "t1l1 = t1l1.assign(comp = lambda x: x.volume / x.tbv)\n",
        "t1l1"
      ],
      "execution_count": 0,
      "outputs": [
        {
          "output_type": "execute_result",
          "data": {
            "text/html": [
              "<div>\n",
              "<style scoped>\n",
              "    .dataframe tbody tr th:only-of-type {\n",
              "        vertical-align: middle;\n",
              "    }\n",
              "\n",
              "    .dataframe tbody tr th {\n",
              "        vertical-align: top;\n",
              "    }\n",
              "\n",
              "    .dataframe thead th {\n",
              "        text-align: right;\n",
              "    }\n",
              "</style>\n",
              "<table border=\"1\" class=\"dataframe\">\n",
              "  <thead>\n",
              "    <tr style=\"text-align: right;\">\n",
              "      <th></th>\n",
              "      <th>roi</th>\n",
              "      <th>volume</th>\n",
              "      <th>type</th>\n",
              "      <th>level</th>\n",
              "      <th>icv</th>\n",
              "      <th>tbv</th>\n",
              "      <th>comp</th>\n",
              "    </tr>\n",
              "  </thead>\n",
              "  <tbody>\n",
              "    <tr>\n",
              "      <th>0</th>\n",
              "      <td>Telencephalon_L</td>\n",
              "      <td>531111</td>\n",
              "      <td>1</td>\n",
              "      <td>1</td>\n",
              "      <td>1378295</td>\n",
              "      <td>1268519</td>\n",
              "      <td>0.418686</td>\n",
              "    </tr>\n",
              "    <tr>\n",
              "      <th>1</th>\n",
              "      <td>Telencephalon_R</td>\n",
              "      <td>543404</td>\n",
              "      <td>1</td>\n",
              "      <td>1</td>\n",
              "      <td>1378295</td>\n",
              "      <td>1268519</td>\n",
              "      <td>0.428377</td>\n",
              "    </tr>\n",
              "    <tr>\n",
              "      <th>2</th>\n",
              "      <td>Diencephalon_L</td>\n",
              "      <td>9683</td>\n",
              "      <td>1</td>\n",
              "      <td>1</td>\n",
              "      <td>1378295</td>\n",
              "      <td>1268519</td>\n",
              "      <td>0.007633</td>\n",
              "    </tr>\n",
              "    <tr>\n",
              "      <th>3</th>\n",
              "      <td>Diencephalon_R</td>\n",
              "      <td>9678</td>\n",
              "      <td>1</td>\n",
              "      <td>1</td>\n",
              "      <td>1378295</td>\n",
              "      <td>1268519</td>\n",
              "      <td>0.007629</td>\n",
              "    </tr>\n",
              "    <tr>\n",
              "      <th>4</th>\n",
              "      <td>Mesencephalon</td>\n",
              "      <td>10268</td>\n",
              "      <td>1</td>\n",
              "      <td>1</td>\n",
              "      <td>1378295</td>\n",
              "      <td>1268519</td>\n",
              "      <td>0.008094</td>\n",
              "    </tr>\n",
              "    <tr>\n",
              "      <th>5</th>\n",
              "      <td>Metencephalon</td>\n",
              "      <td>159402</td>\n",
              "      <td>1</td>\n",
              "      <td>1</td>\n",
              "      <td>1378295</td>\n",
              "      <td>1268519</td>\n",
              "      <td>0.125660</td>\n",
              "    </tr>\n",
              "    <tr>\n",
              "      <th>6</th>\n",
              "      <td>Myelencephalon</td>\n",
              "      <td>4973</td>\n",
              "      <td>1</td>\n",
              "      <td>1</td>\n",
              "      <td>1378295</td>\n",
              "      <td>1268519</td>\n",
              "      <td>0.003920</td>\n",
              "    </tr>\n",
              "    <tr>\n",
              "      <th>7</th>\n",
              "      <td>CSF</td>\n",
              "      <td>109776</td>\n",
              "      <td>1</td>\n",
              "      <td>1</td>\n",
              "      <td>1378295</td>\n",
              "      <td>1268519</td>\n",
              "      <td>0.086539</td>\n",
              "    </tr>\n",
              "  </tbody>\n",
              "</table>\n",
              "</div>"
            ],
            "text/plain": [
              "               roi  volume  type  level      icv      tbv      comp\n",
              "0  Telencephalon_L  531111     1      1  1378295  1268519  0.418686\n",
              "1  Telencephalon_R  543404     1      1  1378295  1268519  0.428377\n",
              "2   Diencephalon_L    9683     1      1  1378295  1268519  0.007633\n",
              "3   Diencephalon_R    9678     1      1  1378295  1268519  0.007629\n",
              "4    Mesencephalon   10268     1      1  1378295  1268519  0.008094\n",
              "5    Metencephalon  159402     1      1  1378295  1268519  0.125660\n",
              "6   Myelencephalon    4973     1      1  1378295  1268519  0.003920\n",
              "7              CSF  109776     1      1  1378295  1268519  0.086539"
            ]
          },
          "metadata": {
            "tags": []
          },
          "execution_count": 9
        }
      ]
    },
    {
      "cell_type": "markdown",
      "metadata": {
        "id": "rl-OM9GmFJln",
        "colab_type": "text"
      },
      "source": [
        "# Plotting\n",
        "\n",
        "Pandas has built in methods for plotting. Later on, we'll try different plotting packages. "
      ]
    },
    {
      "cell_type": "code",
      "metadata": {
        "id": "HecZT2_jRSX3",
        "colab_type": "code",
        "outputId": "b22ddd65-588c-44b5-f824-9184ab63f7cc",
        "colab": {
          "base_uri": "https://localhost:8080/",
          "height": 376
        }
      },
      "source": [
        "t1l1.plot.bar(x='roi',y='comp')"
      ],
      "execution_count": 0,
      "outputs": [
        {
          "output_type": "execute_result",
          "data": {
            "text/plain": [
              "<matplotlib.axes._subplots.AxesSubplot at 0x7ff4d8400f28>"
            ]
          },
          "metadata": {
            "tags": []
          },
          "execution_count": 10
        },
        {
          "output_type": "display_data",
          "data": {
            "image/png": "[encoded data removed]",
            "text/plain": [
              "<Figure size 432x288 with 1 Axes>"
            ]
          },
          "metadata": {
            "tags": []
          }
        }
      ]
    },
    {
      "cell_type": "code",
      "metadata": {
        "id": "xNUIQXeNVb5t",
        "colab_type": "code",
        "outputId": "e6d999f4-4948-4188-80d1-3eb0ae3f50df",
        "colab": {
          "base_uri": "https://localhost:8080/",
          "height": 218
        }
      },
      "source": [
        "!pip install plotly==4.0.0"
      ],
      "execution_count": 0,
      "outputs": [
        {
          "output_type": "stream",
          "text": [
            "Collecting plotly==4.0.0\n",
            "\u001b[?25l  Downloading https://files.pythonhosted.org/packages/58/f3/a49d3281cc7275164ecf89ad3497556b11d9661faa119becdf7f9d3b2125/plotly-4.0.0-py2.py3-none-any.whl (6.8MB)\n",
            "\u001b[K     |████████████████████████████████| 6.8MB 2.8MB/s \n",
            "\u001b[?25hRequirement already satisfied: six in /usr/local/lib/python3.6/dist-packages (from plotly==4.0.0) (1.12.0)\n",
            "Requirement already satisfied: retrying>=1.3.3 in /usr/local/lib/python3.6/dist-packages (from plotly==4.0.0) (1.3.3)\n",
            "Installing collected packages: plotly\n",
            "  Found existing installation: plotly 3.6.1\n",
            "    Uninstalling plotly-3.6.1:\n",
            "      Successfully uninstalled plotly-3.6.1\n",
            "Successfully installed plotly-4.0.0\n"
          ],
          "name": "stdout"
        }
      ]
    },
    {
      "cell_type": "markdown",
      "metadata": {
        "id": "pxF96JVUqJaZ",
        "colab_type": "text"
      },
      "source": [
        "We can create an interactive plot with `plotly`. This is a professionally developed package that makes interactive plotting very easy. Also, it renders nicely within colab or jupyter notebooks. For plotly graphics, I would suggest assigning the graph to a variable then calling that variable to show the plot. This way you can modify the plot later if you'd like."
      ]
    },
    {
      "cell_type": "code",
      "metadata": {
        "id": "PDyD16qapxOc",
        "colab_type": "code",
        "outputId": "494c0839-3ec8-4f6a-a146-42887868a49b",
        "colab": {
          "base_uri": "https://localhost:8080/",
          "height": 617
        }
      },
      "source": [
        "import plotly.express as px\n",
        "myplot = px.bar(t1l1, x='roi', y='volume')\n",
        "myplot.show()"
      ],
      "execution_count": 0,
      "outputs": [
        {
          "output_type": "display_data",
          "data": {
            "text/html": [
              "<html>\n",
              "<head><meta charset=\"utf-8\" /></head>\n",
              "<body>\n",
              "    <div>\n",
              "            <script src=\"https://cdnjs.cloudflare.com/ajax/libs/mathjax/2.7.5/MathJax.js?config=TeX-AMS-MML_SVG\"></script><script type=\"text/javascript\">if (window.MathJax) {MathJax.Hub.Config({SVG: {font: \"STIX-Web\"}});}</script>\n",
              "                <script type=\"text/javascript\">window.PlotlyConfig = {MathJaxConfig: 'local'};</script>\n",
              "        <script src=\"https://cdn.plot.ly/plotly-latest.min.js\"></script>    \n",
              "            <div id=\"6ffb1800-989e-41a0-8bfb-68d7587aee99\" class=\"plotly-graph-div\" style=\"height:600px; width:100%;\"></div>\n",
              "            <script type=\"text/javascript\">\n",
              "                \n",
              "                    window.PLOTLYENV=window.PLOTLYENV || {};\n",
              "                    \n",
              "                if (document.getElementById(\"6ffb1800-989e-41a0-8bfb-68d7587aee99\")) {\n",
              "                    Plotly.newPlot(\n",
              "                        '6ffb1800-989e-41a0-8bfb-68d7587aee99',\n",
              "                        [{\"alignmentgroup\": \"True\", \"hoverlabel\": {\"namelength\": 0}, \"hovertemplate\": \"roi=%{x}<br>volume=%{y}\", \"legendgroup\": \"\", \"marker\": {\"color\": \"#636efa\"}, \"name\": \"\", \"offsetgroup\": \"\", \"orientation\": \"v\", \"showlegend\": false, \"textposition\": \"auto\", \"type\": \"bar\", \"x\": [\"Telencephalon_L\", \"Telencephalon_R\", \"Diencephalon_L\", \"Diencephalon_R\", \"Mesencephalon\", \"Metencephalon\", \"Myelencephalon\", \"CSF\"], \"xaxis\": \"x\", \"y\": [531111, 543404, 9683, 9678, 10268, 159402, 4973, 109776], \"yaxis\": \"y\"}],\n",
              "                        {\"barmode\": \"relative\", \"height\": 600, \"legend\": {\"tracegroupgap\": 0}, \"margin\": {\"t\": 60}, \"template\": {\"data\": {\"bar\": [{\"error_x\": {\"color\": \"#2a3f5f\"}, \"error_y\": {\"color\": \"#2a3f5f\"}, \"marker\": {\"line\": {\"color\": \"#E5ECF6\", \"width\": 0.5}}, \"type\": \"bar\"}], \"barpolar\": [{\"marker\": {\"line\": {\"color\": \"#E5ECF6\", \"width\": 0.5}}, \"type\": \"barpolar\"}], \"carpet\": [{\"aaxis\": {\"endlinecolor\": \"#2a3f5f\", \"gridcolor\": \"white\", \"linecolor\": \"white\", \"minorgridcolor\": \"white\", \"startlinecolor\": \"#2a3f5f\"}, \"baxis\": {\"endlinecolor\": \"#2a3f5f\", \"gridcolor\": \"white\", \"linecolor\": \"white\", \"minorgridcolor\": \"white\", \"startlinecolor\": \"#2a3f5f\"}, \"type\": \"carpet\"}], \"choropleth\": [{\"colorbar\": {\"outlinewidth\": 0, \"ticks\": \"\"}, \"type\": \"choropleth\"}], \"contour\": [{\"colorbar\": {\"outlinewidth\": 0, \"ticks\": \"\"}, \"colorscale\": [[0.0, \"#0d0887\"], [0.1111111111111111, \"#46039f\"], [0.2222222222222222, \"#7201a8\"], [0.3333333333333333, \"#9c179e\"], [0.4444444444444444, \"#bd3786\"], [0.5555555555555556, \"#d8576b\"], [0.6666666666666666, \"#ed7953\"], [0.7777777777777778, \"#fb9f3a\"], [0.8888888888888888, \"#fdca26\"], [1.0, \"#f0f921\"]], \"type\": \"contour\"}], \"contourcarpet\": [{\"colorbar\": {\"outlinewidth\": 0, \"ticks\": \"\"}, \"type\": \"contourcarpet\"}], \"heatmap\": [{\"colorbar\": {\"outlinewidth\": 0, \"ticks\": \"\"}, \"colorscale\": [[0.0, \"#0d0887\"], [0.1111111111111111, \"#46039f\"], [0.2222222222222222, \"#7201a8\"], [0.3333333333333333, \"#9c179e\"], [0.4444444444444444, \"#bd3786\"], [0.5555555555555556, \"#d8576b\"], [0.6666666666666666, \"#ed7953\"], [0.7777777777777778, \"#fb9f3a\"], [0.8888888888888888, \"#fdca26\"], [1.0, \"#f0f921\"]], \"type\": \"heatmap\"}], \"heatmapgl\": [{\"colorbar\": {\"outlinewidth\": 0, \"ticks\": \"\"}, \"colorscale\": [[0.0, \"#0d0887\"], [0.1111111111111111, \"#46039f\"], [0.2222222222222222, \"#7201a8\"], [0.3333333333333333, \"#9c179e\"], [0.4444444444444444, \"#bd3786\"], [0.5555555555555556, \"#d8576b\"], [0.6666666666666666, \"#ed7953\"], [0.7777777777777778, \"#fb9f3a\"], [0.8888888888888888, \"#fdca26\"], [1.0, \"#f0f921\"]], \"type\": \"heatmapgl\"}], \"histogram\": [{\"marker\": {\"colorbar\": {\"outlinewidth\": 0, \"ticks\": \"\"}}, \"type\": \"histogram\"}], \"histogram2d\": [{\"colorbar\": {\"outlinewidth\": 0, \"ticks\": \"\"}, \"colorscale\": [[0.0, \"#0d0887\"], [0.1111111111111111, \"#46039f\"], [0.2222222222222222, \"#7201a8\"], [0.3333333333333333, \"#9c179e\"], [0.4444444444444444, \"#bd3786\"], [0.5555555555555556, \"#d8576b\"], [0.6666666666666666, \"#ed7953\"], [0.7777777777777778, \"#fb9f3a\"], [0.8888888888888888, \"#fdca26\"], [1.0, \"#f0f921\"]], \"type\": \"histogram2d\"}], \"histogram2dcontour\": [{\"colorbar\": {\"outlinewidth\": 0, \"ticks\": \"\"}, \"colorscale\": [[0.0, \"#0d0887\"], [0.1111111111111111, \"#46039f\"], [0.2222222222222222, \"#7201a8\"], [0.3333333333333333, \"#9c179e\"], [0.4444444444444444, \"#bd3786\"], [0.5555555555555556, \"#d8576b\"], [0.6666666666666666, \"#ed7953\"], [0.7777777777777778, \"#fb9f3a\"], [0.8888888888888888, \"#fdca26\"], [1.0, \"#f0f921\"]], \"type\": \"histogram2dcontour\"}], \"mesh3d\": [{\"colorbar\": {\"outlinewidth\": 0, \"ticks\": \"\"}, \"type\": \"mesh3d\"}], \"parcoords\": [{\"line\": {\"colorbar\": {\"outlinewidth\": 0, \"ticks\": \"\"}}, \"type\": \"parcoords\"}], \"scatter\": [{\"marker\": {\"colorbar\": {\"outlinewidth\": 0, \"ticks\": \"\"}}, \"type\": \"scatter\"}], \"scatter3d\": [{\"line\": {\"colorbar\": {\"outlinewidth\": 0, \"ticks\": \"\"}}, \"marker\": {\"colorbar\": {\"outlinewidth\": 0, \"ticks\": \"\"}}, \"type\": \"scatter3d\"}], \"scattercarpet\": [{\"marker\": {\"colorbar\": {\"outlinewidth\": 0, \"ticks\": \"\"}}, \"type\": \"scattercarpet\"}], \"scattergeo\": [{\"marker\": {\"colorbar\": {\"outlinewidth\": 0, \"ticks\": \"\"}}, \"type\": \"scattergeo\"}], \"scattergl\": [{\"marker\": {\"colorbar\": {\"outlinewidth\": 0, \"ticks\": \"\"}}, \"type\": \"scattergl\"}], \"scattermapbox\": [{\"marker\": {\"colorbar\": {\"outlinewidth\": 0, \"ticks\": \"\"}}, \"type\": \"scattermapbox\"}], \"scatterpolar\": [{\"marker\": {\"colorbar\": {\"outlinewidth\": 0, \"ticks\": \"\"}}, \"type\": \"scatterpolar\"}], \"scatterpolargl\": [{\"marker\": {\"colorbar\": {\"outlinewidth\": 0, \"ticks\": \"\"}}, \"type\": \"scatterpolargl\"}], \"scatterternary\": [{\"marker\": {\"colorbar\": {\"outlinewidth\": 0, \"ticks\": \"\"}}, \"type\": \"scatterternary\"}], \"surface\": [{\"colorbar\": {\"outlinewidth\": 0, \"ticks\": \"\"}, \"colorscale\": [[0.0, \"#0d0887\"], [0.1111111111111111, \"#46039f\"], [0.2222222222222222, \"#7201a8\"], [0.3333333333333333, \"#9c179e\"], [0.4444444444444444, \"#bd3786\"], [0.5555555555555556, \"#d8576b\"], [0.6666666666666666, \"#ed7953\"], [0.7777777777777778, \"#fb9f3a\"], [0.8888888888888888, \"#fdca26\"], [1.0, \"#f0f921\"]], \"type\": \"surface\"}], \"table\": [{\"cells\": {\"fill\": {\"color\": \"#EBF0F8\"}, \"line\": {\"color\": \"white\"}}, \"header\": {\"fill\": {\"color\": \"#C8D4E3\"}, \"line\": {\"color\": \"white\"}}, \"type\": \"table\"}]}, \"layout\": {\"annotationdefaults\": {\"arrowcolor\": \"#2a3f5f\", \"arrowhead\": 0, \"arrowwidth\": 1}, \"colorscale\": {\"diverging\": [[0, \"#8e0152\"], [0.1, \"#c51b7d\"], [0.2, \"#de77ae\"], [0.3, \"#f1b6da\"], [0.4, \"#fde0ef\"], [0.5, \"#f7f7f7\"], [0.6, \"#e6f5d0\"], [0.7, \"#b8e186\"], [0.8, \"#7fbc41\"], [0.9, \"#4d9221\"], [1, \"#276419\"]], \"sequential\": [[0.0, \"#0d0887\"], [0.1111111111111111, \"#46039f\"], [0.2222222222222222, \"#7201a8\"], [0.3333333333333333, \"#9c179e\"], [0.4444444444444444, \"#bd3786\"], [0.5555555555555556, \"#d8576b\"], [0.6666666666666666, \"#ed7953\"], [0.7777777777777778, \"#fb9f3a\"], [0.8888888888888888, \"#fdca26\"], [1.0, \"#f0f921\"]], \"sequentialminus\": [[0.0, \"#0d0887\"], [0.1111111111111111, \"#46039f\"], [0.2222222222222222, \"#7201a8\"], [0.3333333333333333, \"#9c179e\"], [0.4444444444444444, \"#bd3786\"], [0.5555555555555556, \"#d8576b\"], [0.6666666666666666, \"#ed7953\"], [0.7777777777777778, \"#fb9f3a\"], [0.8888888888888888, \"#fdca26\"], [1.0, \"#f0f921\"]]}, \"colorway\": [\"#636efa\", \"#EF553B\", \"#00cc96\", \"#ab63fa\", \"#FFA15A\", \"#19d3f3\", \"#FF6692\", \"#B6E880\", \"#FF97FF\", \"#FECB52\"], \"font\": {\"color\": \"#2a3f5f\"}, \"geo\": {\"bgcolor\": \"white\", \"lakecolor\": \"white\", \"landcolor\": \"#E5ECF6\", \"showlakes\": true, \"showland\": true, \"subunitcolor\": \"white\"}, \"hoverlabel\": {\"align\": \"left\"}, \"hovermode\": \"closest\", \"mapbox\": {\"style\": \"light\"}, \"paper_bgcolor\": \"white\", \"plot_bgcolor\": \"#E5ECF6\", \"polar\": {\"angularaxis\": {\"gridcolor\": \"white\", \"linecolor\": \"white\", \"ticks\": \"\"}, \"bgcolor\": \"#E5ECF6\", \"radialaxis\": {\"gridcolor\": \"white\", \"linecolor\": \"white\", \"ticks\": \"\"}}, \"scene\": {\"xaxis\": {\"backgroundcolor\": \"#E5ECF6\", \"gridcolor\": \"white\", \"gridwidth\": 2, \"linecolor\": \"white\", \"showbackground\": true, \"ticks\": \"\", \"zerolinecolor\": \"white\"}, \"yaxis\": {\"backgroundcolor\": \"#E5ECF6\", \"gridcolor\": \"white\", \"gridwidth\": 2, \"linecolor\": \"white\", \"showbackground\": true, \"ticks\": \"\", \"zerolinecolor\": \"white\"}, \"zaxis\": {\"backgroundcolor\": \"#E5ECF6\", \"gridcolor\": \"white\", \"gridwidth\": 2, \"linecolor\": \"white\", \"showbackground\": true, \"ticks\": \"\", \"zerolinecolor\": \"white\"}}, \"shapedefaults\": {\"line\": {\"color\": \"#2a3f5f\"}}, \"ternary\": {\"aaxis\": {\"gridcolor\": \"white\", \"linecolor\": \"white\", \"ticks\": \"\"}, \"baxis\": {\"gridcolor\": \"white\", \"linecolor\": \"white\", \"ticks\": \"\"}, \"bgcolor\": \"#E5ECF6\", \"caxis\": {\"gridcolor\": \"white\", \"linecolor\": \"white\", \"ticks\": \"\"}}, \"title\": {\"x\": 0.05}, \"xaxis\": {\"automargin\": true, \"gridcolor\": \"white\", \"linecolor\": \"white\", \"ticks\": \"\", \"zerolinecolor\": \"white\", \"zerolinewidth\": 2}, \"yaxis\": {\"automargin\": true, \"gridcolor\": \"white\", \"linecolor\": \"white\", \"ticks\": \"\", \"zerolinecolor\": \"white\", \"zerolinewidth\": 2}}}, \"xaxis\": {\"anchor\": \"y\", \"domain\": [0.0, 0.98], \"title\": {\"text\": \"roi\"}}, \"yaxis\": {\"anchor\": \"x\", \"domain\": [0.0, 1.0], \"title\": {\"text\": \"volume\"}}},\n",
              "                        {\"responsive\": true}\n",
              "                    ).then(function(){\n",
              "                            \n",
              "var gd = document.getElementById('6ffb1800-989e-41a0-8bfb-68d7587aee99');\n",
              "var x = new MutationObserver(function (mutations, observer) {{\n",
              "        var display = window.getComputedStyle(gd).display;\n",
              "        if (!display || display === 'none') {{\n",
              "            console.log([gd, 'removed!']);\n",
              "            Plotly.purge(gd);\n",
              "            observer.disconnect();\n",
              "        }}\n",
              "}});\n",
              "\n",
              "// Listen for the removal of the full notebook cells\n",
              "var notebookContainer = gd.closest('#notebook-container');\n",
              "if (notebookContainer) {{\n",
              "    x.observe(notebookContainer, {childList: true});\n",
              "}}\n",
              "\n",
              "// Listen for the clearing of the current output cell\n",
              "var outputEl = gd.closest('.output');\n",
              "if (outputEl) {{\n",
              "    x.observe(outputEl, {childList: true});\n",
              "}}\n",
              "\n",
              "                        })\n",
              "                };\n",
              "                \n",
              "            </script>\n",
              "        </div>\n",
              "</body>\n",
              "</html>"
            ]
          },
          "metadata": {
            "tags": []
          }
        }
      ]
    }
  ]
}